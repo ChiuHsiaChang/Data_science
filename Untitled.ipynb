{
 "cells": [
  {
   "cell_type": "code",
   "execution_count": 1,
   "metadata": {},
   "outputs": [
    {
     "name": "stderr",
     "output_type": "stream",
     "text": [
      "Loading required package: limma\n",
      "\n"
     ]
    },
    {
     "data": {
      "text/html": [
       "<table>\n",
       "<caption>A matrix: 10 × 10 of type chr</caption>\n",
       "<thead>\n",
       "\t<tr><th></th><th scope=col>TCGA-BH-A1FH-11B-42R-A13Q-07</th><th scope=col>TCGA-A7-A13E-11A-61R-A12P-07</th><th scope=col>TCGA-BH-A0DK-11A-13R-A089-07</th><th scope=col>TCGA-BH-A18Q-11A-34R-A12D-07</th><th scope=col>TCGA-BH-A0BJ-11A-23R-A089-07</th><th scope=col>TCGA-BH-A1FD-11B-21R-A13Q-07</th><th scope=col>TCGA-BH-A1FN-11A-34R-A13Q-07</th><th scope=col>TCGA-AC-A2FM-11B-32R-A19W-07</th><th scope=col>TCGA-E9-A1NA-11A-33R-A144-07</th><th scope=col>TCGA-E9-A1RD-11A-33R-A157-07</th></tr>\n",
       "</thead>\n",
       "<tbody>\n",
       "\t<tr><th scope=row>ARHGAP42P2</th><td>     2</td><td>     4</td><td>      2</td><td>     1</td><td>     1</td><td>     0</td><td>     0</td><td>     0</td><td>     0</td><td>      1</td></tr>\n",
       "\t<tr><th scope=row>AL161757.3</th><td>     0</td><td>     0</td><td>      0</td><td>     0</td><td>     0</td><td>     0</td><td>     0</td><td>     0</td><td>     0</td><td>      0</td></tr>\n",
       "\t<tr><th scope=row>ZNF43</th><td>   916</td><td>   993</td><td>   2417</td><td>  2560</td><td>  1595</td><td>  1801</td><td>  2478</td><td>   860</td><td>  1161</td><td>   1388</td></tr>\n",
       "\t<tr><th scope=row>AC069504.1</th><td>     0</td><td>     0</td><td>      0</td><td>     0</td><td>     0</td><td>     0</td><td>     0</td><td>     0</td><td>     0</td><td>      0</td></tr>\n",
       "\t<tr><th scope=row>AC234917.1</th><td>     0</td><td>     0</td><td>      1</td><td>     1</td><td>     0</td><td>     2</td><td>     5</td><td>     1</td><td>     0</td><td>      0</td></tr>\n",
       "\t<tr><th scope=row>MRPL21</th><td>  1168</td><td>   865</td><td>   2869</td><td>  1215</td><td>   958</td><td>  1522</td><td>  2114</td><td>  2092</td><td>  1152</td><td>   1376</td></tr>\n",
       "\t<tr><th scope=row>LINC02503</th><td>     0</td><td>     0</td><td>      0</td><td>     0</td><td>     0</td><td>     0</td><td>     0</td><td>     0</td><td>     0</td><td>      0</td></tr>\n",
       "\t<tr><th scope=row>CDC14A</th><td>   825</td><td>   411</td><td>   1279</td><td>  3543</td><td>  1739</td><td>  1055</td><td>  1608</td><td>   604</td><td>   503</td><td>    651</td></tr>\n",
       "\t<tr><th scope=row>MIR1179</th><td>     0</td><td>     0</td><td>      0</td><td>     0</td><td>     0</td><td>     0</td><td>     0</td><td>     0</td><td>     0</td><td>      0</td></tr>\n",
       "\t<tr><th scope=row>MESTP2</th><td>     1</td><td>     0</td><td>      0</td><td>     0</td><td>     0</td><td>     0</td><td>     0</td><td>     0</td><td>     1</td><td>      0</td></tr>\n",
       "</tbody>\n",
       "</table>\n"
      ],
      "text/latex": [
       "A matrix: 10 × 10 of type chr\n",
       "\\begin{tabular}{r|llllllllll}\n",
       "  & TCGA-BH-A1FH-11B-42R-A13Q-07 & TCGA-A7-A13E-11A-61R-A12P-07 & TCGA-BH-A0DK-11A-13R-A089-07 & TCGA-BH-A18Q-11A-34R-A12D-07 & TCGA-BH-A0BJ-11A-23R-A089-07 & TCGA-BH-A1FD-11B-21R-A13Q-07 & TCGA-BH-A1FN-11A-34R-A13Q-07 & TCGA-AC-A2FM-11B-32R-A19W-07 & TCGA-E9-A1NA-11A-33R-A144-07 & TCGA-E9-A1RD-11A-33R-A157-07\\\\\n",
       "\\hline\n",
       "\tARHGAP42P2 &      2 &      4 &       2 &      1 &      1 &      0 &      0 &      0 &      0 &       1\\\\\n",
       "\tAL161757.3 &      0 &      0 &       0 &      0 &      0 &      0 &      0 &      0 &      0 &       0\\\\\n",
       "\tZNF43 &    916 &    993 &    2417 &   2560 &   1595 &   1801 &   2478 &    860 &   1161 &    1388\\\\\n",
       "\tAC069504.1 &      0 &      0 &       0 &      0 &      0 &      0 &      0 &      0 &      0 &       0\\\\\n",
       "\tAC234917.1 &      0 &      0 &       1 &      1 &      0 &      2 &      5 &      1 &      0 &       0\\\\\n",
       "\tMRPL21 &   1168 &    865 &    2869 &   1215 &    958 &   1522 &   2114 &   2092 &   1152 &    1376\\\\\n",
       "\tLINC02503 &      0 &      0 &       0 &      0 &      0 &      0 &      0 &      0 &      0 &       0\\\\\n",
       "\tCDC14A &    825 &    411 &    1279 &   3543 &   1739 &   1055 &   1608 &    604 &    503 &     651\\\\\n",
       "\tMIR1179 &      0 &      0 &       0 &      0 &      0 &      0 &      0 &      0 &      0 &       0\\\\\n",
       "\tMESTP2 &      1 &      0 &       0 &      0 &      0 &      0 &      0 &      0 &      1 &       0\\\\\n",
       "\\end{tabular}\n"
      ],
      "text/markdown": [
       "\n",
       "A matrix: 10 × 10 of type chr\n",
       "\n",
       "| <!--/--> | TCGA-BH-A1FH-11B-42R-A13Q-07 | TCGA-A7-A13E-11A-61R-A12P-07 | TCGA-BH-A0DK-11A-13R-A089-07 | TCGA-BH-A18Q-11A-34R-A12D-07 | TCGA-BH-A0BJ-11A-23R-A089-07 | TCGA-BH-A1FD-11B-21R-A13Q-07 | TCGA-BH-A1FN-11A-34R-A13Q-07 | TCGA-AC-A2FM-11B-32R-A19W-07 | TCGA-E9-A1NA-11A-33R-A144-07 | TCGA-E9-A1RD-11A-33R-A157-07 |\n",
       "|---|---|---|---|---|---|---|---|---|---|---|\n",
       "| ARHGAP42P2 |      2 |      4 |       2 |      1 |      1 |      0 |      0 |      0 |      0 |       1 |\n",
       "| AL161757.3 |      0 |      0 |       0 |      0 |      0 |      0 |      0 |      0 |      0 |       0 |\n",
       "| ZNF43 |    916 |    993 |    2417 |   2560 |   1595 |   1801 |   2478 |    860 |   1161 |    1388 |\n",
       "| AC069504.1 |      0 |      0 |       0 |      0 |      0 |      0 |      0 |      0 |      0 |       0 |\n",
       "| AC234917.1 |      0 |      0 |       1 |      1 |      0 |      2 |      5 |      1 |      0 |       0 |\n",
       "| MRPL21 |   1168 |    865 |    2869 |   1215 |    958 |   1522 |   2114 |   2092 |   1152 |    1376 |\n",
       "| LINC02503 |      0 |      0 |       0 |      0 |      0 |      0 |      0 |      0 |      0 |       0 |\n",
       "| CDC14A |    825 |    411 |    1279 |   3543 |   1739 |   1055 |   1608 |    604 |    503 |     651 |\n",
       "| MIR1179 |      0 |      0 |       0 |      0 |      0 |      0 |      0 |      0 |      0 |       0 |\n",
       "| MESTP2 |      1 |      0 |       0 |      0 |      0 |      0 |      0 |      0 |      1 |       0 |\n",
       "\n"
      ],
      "text/plain": [
       "           TCGA-BH-A1FH-11B-42R-A13Q-07 TCGA-A7-A13E-11A-61R-A12P-07\n",
       "ARHGAP42P2      2                            4                      \n",
       "AL161757.3      0                            0                      \n",
       "ZNF43         916                          993                      \n",
       "AC069504.1      0                            0                      \n",
       "AC234917.1      0                            0                      \n",
       "MRPL21       1168                          865                      \n",
       "LINC02503       0                            0                      \n",
       "CDC14A        825                          411                      \n",
       "MIR1179         0                            0                      \n",
       "MESTP2          1                            0                      \n",
       "           TCGA-BH-A0DK-11A-13R-A089-07 TCGA-BH-A18Q-11A-34R-A12D-07\n",
       "ARHGAP42P2       2                           1                      \n",
       "AL161757.3       0                           0                      \n",
       "ZNF43         2417                        2560                      \n",
       "AC069504.1       0                           0                      \n",
       "AC234917.1       1                           1                      \n",
       "MRPL21        2869                        1215                      \n",
       "LINC02503        0                           0                      \n",
       "CDC14A        1279                        3543                      \n",
       "MIR1179          0                           0                      \n",
       "MESTP2           0                           0                      \n",
       "           TCGA-BH-A0BJ-11A-23R-A089-07 TCGA-BH-A1FD-11B-21R-A13Q-07\n",
       "ARHGAP42P2      1                            0                      \n",
       "AL161757.3      0                            0                      \n",
       "ZNF43        1595                         1801                      \n",
       "AC069504.1      0                            0                      \n",
       "AC234917.1      0                            2                      \n",
       "MRPL21        958                         1522                      \n",
       "LINC02503       0                            0                      \n",
       "CDC14A       1739                         1055                      \n",
       "MIR1179         0                            0                      \n",
       "MESTP2          0                            0                      \n",
       "           TCGA-BH-A1FN-11A-34R-A13Q-07 TCGA-AC-A2FM-11B-32R-A19W-07\n",
       "ARHGAP42P2      0                            0                      \n",
       "AL161757.3      0                            0                      \n",
       "ZNF43        2478                          860                      \n",
       "AC069504.1      0                            0                      \n",
       "AC234917.1      5                            1                      \n",
       "MRPL21       2114                         2092                      \n",
       "LINC02503       0                            0                      \n",
       "CDC14A       1608                          604                      \n",
       "MIR1179         0                            0                      \n",
       "MESTP2          0                            0                      \n",
       "           TCGA-E9-A1NA-11A-33R-A144-07 TCGA-E9-A1RD-11A-33R-A157-07\n",
       "ARHGAP42P2      0                             1                     \n",
       "AL161757.3      0                             0                     \n",
       "ZNF43        1161                          1388                     \n",
       "AC069504.1      0                             0                     \n",
       "AC234917.1      0                             0                     \n",
       "MRPL21       1152                          1376                     \n",
       "LINC02503       0                             0                     \n",
       "CDC14A        503                           651                     \n",
       "MIR1179         0                             0                     \n",
       "MESTP2          1                             0                     "
      ]
     },
     "metadata": {},
     "output_type": "display_data"
    }
   ],
   "source": [
    "foldChange=1  #基因差異倍數，增大嚴格\n",
    "padj=0.05 #減少嚴格\n",
    "\n",
    "setwd(\"D:\\\\2020\\\\資料科學\\\\final-project\\\\tcga_files\\\\rename\\\\edgeR\")\n",
    "library(\"edgeR\")\n",
    "rt=read.table(\"mRNA.symbol.txt\",sep=\"\\t\",header=T,check.names=F)\n",
    "rt=as.matrix(rt)\n",
    "rownames(rt)=rt[,1]   #第一列基因名為rowname\n",
    "exp=rt[,2:ncol(rt)]  #第二列到最後一列為表達量\n",
    "exp[1:10,1:10]"
   ]
  },
  {
   "cell_type": "code",
   "execution_count": 2,
   "metadata": {},
   "outputs": [
    {
     "data": {
      "text/html": [
       "'character'"
      ],
      "text/latex": [
       "'character'"
      ],
      "text/markdown": [
       "'character'"
      ],
      "text/plain": [
       "[1] \"character\""
      ]
     },
     "metadata": {},
     "output_type": "display_data"
    }
   ],
   "source": [
    "class(exp[1,1])"
   ]
  },
  {
   "cell_type": "code",
   "execution_count": 3,
   "metadata": {},
   "outputs": [],
   "source": [
    "dimnames=list(rownames(exp),colnames(exp))\n",
    "data=matrix(as.numeric(as.matrix(exp)),nrow=nrow(exp),dimnames=dimnames) #將character轉numeric"
   ]
  },
  {
   "cell_type": "code",
   "execution_count": 4,
   "metadata": {},
   "outputs": [
    {
     "data": {
      "text/html": [
       "'numeric'"
      ],
      "text/latex": [
       "'numeric'"
      ],
      "text/markdown": [
       "'numeric'"
      ],
      "text/plain": [
       "[1] \"numeric\""
      ]
     },
     "metadata": {},
     "output_type": "display_data"
    }
   ],
   "source": [
    "class(data[1,1])"
   ]
  },
  {
   "cell_type": "code",
   "execution_count": 5,
   "metadata": {},
   "outputs": [
    {
     "data": {
      "text/html": [
       "56485"
      ],
      "text/latex": [
       "56485"
      ],
      "text/markdown": [
       "56485"
      ],
      "text/plain": [
       "[1] 56485"
      ]
     },
     "metadata": {},
     "output_type": "display_data"
    }
   ],
   "source": [
    "nrow(data)"
   ]
  },
  {
   "cell_type": "code",
   "execution_count": 6,
   "metadata": {},
   "outputs": [],
   "source": [
    "data=avereps(data) #將重複的基因表達量做平均，去掉重複列"
   ]
  },
  {
   "cell_type": "code",
   "execution_count": 7,
   "metadata": {},
   "outputs": [
    {
     "data": {
      "text/html": [
       "55346"
      ],
      "text/latex": [
       "55346"
      ],
      "text/markdown": [
       "55346"
      ],
      "text/plain": [
       "[1] 55346"
      ]
     },
     "metadata": {},
     "output_type": "display_data"
    }
   ],
   "source": [
    "nrow(data)"
   ]
  },
  {
   "cell_type": "code",
   "execution_count": 8,
   "metadata": {},
   "outputs": [],
   "source": [
    "data=data[rowMeans(data)>2,] #去除低表達基因，大於1即在所有samples中都基本不表達"
   ]
  },
  {
   "cell_type": "code",
   "execution_count": 9,
   "metadata": {},
   "outputs": [
    {
     "data": {
      "text/html": [
       "30263"
      ],
      "text/latex": [
       "30263"
      ],
      "text/markdown": [
       "30263"
      ],
      "text/plain": [
       "[1] 30263"
      ]
     },
     "metadata": {},
     "output_type": "display_data"
    }
   ],
   "source": [
    "nrow(data)"
   ]
  },
  {
   "cell_type": "code",
   "execution_count": 10,
   "metadata": {},
   "outputs": [],
   "source": [
    "group=c(rep(\"normal\",113),rep(\"tumor\",1109)) #切分為normal和tumor"
   ]
  },
  {
   "cell_type": "code",
   "execution_count": 11,
   "metadata": {},
   "outputs": [],
   "source": [
    "design <- model.matrix(~group)\n",
    "y <- DGEList(counts=data,group=group)\n",
    "y <- calcNormFactors(y)\n",
    "y <- estimateCommonDisp(y)\n",
    "y <- estimateTagwiseDisp(y)\n",
    "et <- exactTest(y,pair = c(\"normal\",\"tumor\"))"
   ]
  },
  {
   "cell_type": "code",
   "execution_count": 12,
   "metadata": {},
   "outputs": [
    {
     "data": {
      "text/html": [
       "<dl>\n",
       "\t<dt>$table</dt>\n",
       "\t\t<dd><table>\n",
       "<caption>A data.frame: 10 × 4</caption>\n",
       "<thead>\n",
       "\t<tr><th></th><th scope=col>logFC</th><th scope=col>logCPM</th><th scope=col>PValue</th><th scope=col>FDR</th></tr>\n",
       "\t<tr><th></th><th scope=col>&lt;dbl&gt;</th><th scope=col>&lt;dbl&gt;</th><th scope=col>&lt;dbl&gt;</th><th scope=col>&lt;dbl&gt;</th></tr>\n",
       "</thead>\n",
       "<tbody>\n",
       "\t<tr><th scope=row>CKM</th><td>-8.314478</td><td>5.269065</td><td>0</td><td>0</td></tr>\n",
       "\t<tr><th scope=row>ACTA1</th><td>-6.990036</td><td>6.347895</td><td>0</td><td>0</td></tr>\n",
       "\t<tr><th scope=row>MYLPF</th><td>-6.960771</td><td>2.428542</td><td>0</td><td>0</td></tr>\n",
       "\t<tr><th scope=row>PYGM</th><td>-6.946510</td><td>3.900152</td><td>0</td><td>0</td></tr>\n",
       "\t<tr><th scope=row>SLN</th><td>-6.461278</td><td>1.779354</td><td>0</td><td>0</td></tr>\n",
       "\t<tr><th scope=row>TNNC2</th><td>-6.342683</td><td>2.982459</td><td>0</td><td>0</td></tr>\n",
       "\t<tr><th scope=row>ACTN3</th><td>-6.317147</td><td>0.925098</td><td>0</td><td>0</td></tr>\n",
       "\t<tr><th scope=row>KLHL41</th><td>-6.301495</td><td>3.109752</td><td>0</td><td>0</td></tr>\n",
       "\t<tr><th scope=row>ATP2A1</th><td>-6.174821</td><td>3.857631</td><td>0</td><td>0</td></tr>\n",
       "\t<tr><th scope=row>TNNC1</th><td>-6.145576</td><td>2.893498</td><td>0</td><td>0</td></tr>\n",
       "</tbody>\n",
       "</table>\n",
       "</dd>\n",
       "\t<dt>$adjust.method</dt>\n",
       "\t\t<dd>'BH'</dd>\n",
       "\t<dt>$comparison</dt>\n",
       "\t\t<dd><style>\n",
       ".list-inline {list-style: none; margin:0; padding: 0}\n",
       ".list-inline>li {display: inline-block}\n",
       ".list-inline>li:not(:last-child)::after {content: \"\\00b7\"; padding: 0 .5ex}\n",
       "</style>\n",
       "<ol class=list-inline><li>'normal'</li><li>'tumor'</li></ol>\n",
       "</dd>\n",
       "\t<dt>$test</dt>\n",
       "\t\t<dd>'exact'</dd>\n",
       "</dl>\n"
      ],
      "text/latex": [
       "\\begin{description}\n",
       "\\item[\\$table] A data.frame: 10 × 4\n",
       "\\begin{tabular}{r|llll}\n",
       "  & logFC & logCPM & PValue & FDR\\\\\n",
       "  & <dbl> & <dbl> & <dbl> & <dbl>\\\\\n",
       "\\hline\n",
       "\tCKM & -8.314478 & 5.269065 & 0 & 0\\\\\n",
       "\tACTA1 & -6.990036 & 6.347895 & 0 & 0\\\\\n",
       "\tMYLPF & -6.960771 & 2.428542 & 0 & 0\\\\\n",
       "\tPYGM & -6.946510 & 3.900152 & 0 & 0\\\\\n",
       "\tSLN & -6.461278 & 1.779354 & 0 & 0\\\\\n",
       "\tTNNC2 & -6.342683 & 2.982459 & 0 & 0\\\\\n",
       "\tACTN3 & -6.317147 & 0.925098 & 0 & 0\\\\\n",
       "\tKLHL41 & -6.301495 & 3.109752 & 0 & 0\\\\\n",
       "\tATP2A1 & -6.174821 & 3.857631 & 0 & 0\\\\\n",
       "\tTNNC1 & -6.145576 & 2.893498 & 0 & 0\\\\\n",
       "\\end{tabular}\n",
       "\n",
       "\\item[\\$adjust.method] 'BH'\n",
       "\\item[\\$comparison] \\begin{enumerate*}\n",
       "\\item 'normal'\n",
       "\\item 'tumor'\n",
       "\\end{enumerate*}\n",
       "\n",
       "\\item[\\$test] 'exact'\n",
       "\\end{description}\n"
      ],
      "text/markdown": [
       "$table\n",
       ":   \n",
       "A data.frame: 10 × 4\n",
       "\n",
       "| <!--/--> | logFC &lt;dbl&gt; | logCPM &lt;dbl&gt; | PValue &lt;dbl&gt; | FDR &lt;dbl&gt; |\n",
       "|---|---|---|---|---|\n",
       "| CKM | -8.314478 | 5.269065 | 0 | 0 |\n",
       "| ACTA1 | -6.990036 | 6.347895 | 0 | 0 |\n",
       "| MYLPF | -6.960771 | 2.428542 | 0 | 0 |\n",
       "| PYGM | -6.946510 | 3.900152 | 0 | 0 |\n",
       "| SLN | -6.461278 | 1.779354 | 0 | 0 |\n",
       "| TNNC2 | -6.342683 | 2.982459 | 0 | 0 |\n",
       "| ACTN3 | -6.317147 | 0.925098 | 0 | 0 |\n",
       "| KLHL41 | -6.301495 | 3.109752 | 0 | 0 |\n",
       "| ATP2A1 | -6.174821 | 3.857631 | 0 | 0 |\n",
       "| TNNC1 | -6.145576 | 2.893498 | 0 | 0 |\n",
       "\n",
       "\n",
       "$adjust.method\n",
       ":   'BH'\n",
       "$comparison\n",
       ":   1. 'normal'\n",
       "2. 'tumor'\n",
       "\n",
       "\n",
       "\n",
       "$test\n",
       ":   'exact'\n",
       "\n",
       "\n"
      ],
      "text/plain": [
       "Comparison of groups:  tumor-normal \n",
       "           logFC   logCPM PValue FDR\n",
       "CKM    -8.314478 5.269065      0   0\n",
       "ACTA1  -6.990036 6.347895      0   0\n",
       "MYLPF  -6.960771 2.428542      0   0\n",
       "PYGM   -6.946510 3.900152      0   0\n",
       "SLN    -6.461278 1.779354      0   0\n",
       "TNNC2  -6.342683 2.982459      0   0\n",
       "ACTN3  -6.317147 0.925098      0   0\n",
       "KLHL41 -6.301495 3.109752      0   0\n",
       "ATP2A1 -6.174821 3.857631      0   0\n",
       "TNNC1  -6.145576 2.893498      0   0"
      ]
     },
     "metadata": {},
     "output_type": "display_data"
    }
   ],
   "source": [
    "topTags(et)\n",
    "ordered_tags <- topTags(et, n=100000)"
   ]
  },
  {
   "cell_type": "code",
   "execution_count": 13,
   "metadata": {},
   "outputs": [],
   "source": [
    "allDiff=ordered_tags$table\n",
    "allDiff=allDiff[is.na(allDiff$FDR)==FALSE,]\n",
    "diff=allDiff\n",
    "newData=y$pseudo.counts"
   ]
  },
  {
   "cell_type": "code",
   "execution_count": 14,
   "metadata": {},
   "outputs": [],
   "source": [
    "write.table(diff,file=\"edgerOut.xls\",sep=\"\\t\",quote=F)  #去除低表達之後的基因\n",
    "diffSig = diff[(diff$FDR < padj & (diff$logFC>foldChange | diff$logFC<(-foldChange))),] \n",
    "write.table(diffSig, file=\"diffSig.xls\",sep=\"\\t\",quote=F)   #顯著差異的基因（fdr，foldchange篩選后的）\n",
    "diffUp = diff[(diff$FDR < padj & (diff$logFC>foldChange)),]     #foldchange大於1上調，小於1下調\n",
    "write.table(diffUp, file=\"up.xls\",sep=\"\\t\",quote=F)\n",
    "diffDown = diff[(diff$FDR < padj & (diff$logFC<(-foldChange))),]\n",
    "write.table(diffDown, file=\"down.xls\",sep=\"\\t\",quote=F)"
   ]
  },
  {
   "cell_type": "code",
   "execution_count": 15,
   "metadata": {},
   "outputs": [],
   "source": [
    "normalizeExp=rbind(id=colnames(newData),newData)\n",
    "write.table(normalizeExp,file=\"normalizeExp.txt\",sep=\"\\t\",quote=F,col.names=F)   #normalized后的高表達基因\n",
    "diffExp=rbind(id=colnames(newData),newData[rownames(diffSig),])\n",
    "write.table(diffExp,file=\"diffmRNAExp.txt\",sep=\"\\t\",quote=F,col.names=F)"
   ]
  },
  {
   "cell_type": "code",
   "execution_count": 16,
   "metadata": {},
   "outputs": [],
   "source": [
    "heatmapData <- newData[rownames(diffSig),]"
   ]
  },
  {
   "cell_type": "code",
   "execution_count": 19,
   "metadata": {},
   "outputs": [
    {
     "data": {
      "text/html": [
       "Inf"
      ],
      "text/latex": [
       "Inf"
      ],
      "text/markdown": [
       "Inf"
      ],
      "text/plain": [
       "[1] Inf"
      ]
     },
     "metadata": {},
     "output_type": "display_data"
    }
   ],
   "source": [
    "max(-log10(allDiff$FDR))"
   ]
  },
  {
   "cell_type": "code",
   "execution_count": 17,
   "metadata": {},
   "outputs": [
    {
     "ename": "ERROR",
     "evalue": "Error in plot.window(...): 'xlim'值不能是无限的\n",
     "output_type": "error",
     "traceback": [
      "Error in plot.window(...): 'xlim'值不能是无限的\nTraceback:\n",
      "1. plot(-log10(allDiff$FDR), allDiff$logFC, xlab = \"-log10(FDR)\", \n .     ylab = \"logFC\", main = \"Volcano\", xlim = c(0, xMax), ylim = c(-yMax, \n .         yMax), yaxs = \"i\", pch = 20, cex = 0.4)",
      "2. plot.default(-log10(allDiff$FDR), allDiff$logFC, xlab = \"-log10(FDR)\", \n .     ylab = \"logFC\", main = \"Volcano\", xlim = c(0, xMax), ylim = c(-yMax, \n .         yMax), yaxs = \"i\", pch = 20, cex = 0.4)",
      "3. localWindow(xlim, ylim, log, asp, ...)",
      "4. plot.window(...)"
     ]
    }
   ],
   "source": [
    "#volcano\n",
    "pdf(file=\"vol.pdf\")\n",
    "xMax=max(-log10(allDiff$FDR))+1\n",
    "yMax=12\n",
    "plot(-log10(allDiff$FDR), allDiff$logFC, xlab=\"-log10(FDR)\",ylab=\"logFC\",\n",
    "     main=\"Volcano\", xlim=c(0,xMax),ylim=c(-yMax,yMax),yaxs=\"i\",pch=20, cex=0.4)\n",
    "diffSub=allDiff[allDiff$FDR<padj & allDiff$logFC>foldChange,]\n",
    "points(-log10(diffSub$FDR), diffSub$logFC, pch=20, col=\"red\",cex=0.4)\n",
    "diffSub=allDiff[allDiff$FDR<padj & allDiff$logFC<(-foldChange),]\n",
    "points(-log10(diffSub$FDR), diffSub$logFC, pch=20, col=\"green\",cex=0.4)\n",
    "abline(h=0,lty=2,lwd=3)\n",
    "dev.off()"
   ]
  },
  {
   "cell_type": "code",
   "execution_count": null,
   "metadata": {},
   "outputs": [],
   "source": [
    "#heatmap\n",
    "hmExp=log10(heatmapData+0.001)\n",
    "library('gplots')\n",
    "hmMat=as.matrix(hmExp)\n",
    "pdf(file=\"heatmap.pdf\",width=60,height=90)\n",
    "par(oma=c(10,3,3,7))\n",
    "heatmap.2(hmMat,col='greenred',trace=\"none\")\n",
    "dev.off()"
   ]
  }
 ],
 "metadata": {
  "kernelspec": {
   "display_name": "R",
   "language": "R",
   "name": "ir"
  },
  "language_info": {
   "codemirror_mode": "r",
   "file_extension": ".r",
   "mimetype": "text/x-r-source",
   "name": "R",
   "pygments_lexer": "r",
   "version": "4.0.3"
  }
 },
 "nbformat": 4,
 "nbformat_minor": 2
}
